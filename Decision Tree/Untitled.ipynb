{
 "cells": [
  {
   "cell_type": "code",
   "execution_count": 1,
   "metadata": {},
   "outputs": [],
   "source": [
    "# You may want to install \"gprof2dot\"\n",
    "import io\n",
    "from collections import Counter\n",
    "\n",
    "import numpy as np\n",
    "import pandas as pd\n",
    "import scipy.io\n",
    "from statistics import mode\n",
    "import sklearn.model_selection\n",
    "import sklearn.tree\n",
    "from numpy import genfromtxt\n",
    "from scipy import stats\n",
    "from sklearn.base import BaseEstimator, ClassifierMixin\n",
    "\n",
    "import pydot\n",
    "import multiprocessing as mp\n",
    "\n",
    "eps = 1e-5  # a small number\n",
    "\n",
    "\n",
    "# Data Processing for Titanic.\n",
    "from sklearn.preprocessing import LabelBinarizer, PolynomialFeatures\n",
    "from sklearn.feature_extraction import DictVectorizer\n",
    "\n",
    "# For Spam Kaggle Competition.\n",
    "from sklearn.feature_extraction.text import CountVectorizer\n",
    "from sklearn.feature_extraction.text import TfidfVectorizer\n",
    "import glob\n",
    "\n"
   ]
  },
  {
   "cell_type": "code",
   "execution_count": 2,
   "metadata": {},
   "outputs": [],
   "source": [
    "# Utility function.\n",
    "def results_to_csv(y_test, name):\n",
    "    y_test = y_test.astype(int)\n",
    "    df = pd.DataFrame({'Category': y_test})\n",
    "    df.index += 1  # Ensures that the index starts at 1. \n",
    "    df.to_csv(name + '.csv', index_label='Id')\n",
    "def split(data, labels, val_size):\n",
    "    num_items = len(data)\n",
    "    assert num_items == len(labels)\n",
    "    assert val_size >= 0\n",
    "    if val_size < 1.0:\n",
    "        val_size = int(num_items * val_size)\n",
    "    train_size = num_items - val_size\n",
    "    idx = random.permutation(num_items)\n",
    "    data_train = data[idx][:train_size]\n",
    "    label_train = labels[idx][:train_size]\n",
    "    data_val = data[idx][train_size:]\n",
    "    label_val = labels[idx][train_size:]\n",
    "    return data_train, data_val, label_train, label_val\n",
    "\n",
    "def get_vote_result(vote):\n",
    "    cutoff = len(vote)//2\n",
    "    if sum(vote) > cutoff:\n",
    "        return 1\n",
    "    else:\n",
    "        return 0"
   ]
  },
  {
   "cell_type": "markdown",
   "metadata": {},
   "source": [
    "<font size=3.6>**3.1 Implement Decision Tree**"
   ]
  },
  {
   "cell_type": "code",
   "execution_count": 23,
   "metadata": {},
   "outputs": [],
   "source": [
    "    \n",
    "def gini_impurity(y):\n",
    "    # TODO implement gini_impurity function\n",
    "    labels = np.unique(y)\n",
    "    total_num = float(len(y))\n",
    "    gini_sum = 0\n",
    "        \n",
    "    for item in labels:\n",
    "        gini_sum += (sum([1 for i in list(y) if i == item])/total_num)**2\n",
    "            \n",
    "    return 1 - gini_sum\n",
    "\n",
    "\n",
    "def information_gain(X, y, thresh):\n",
    "\n",
    "    right_index = (X <= thresh)\n",
    "    left_index = (X > thresh)\n",
    "    y_right = np.extract(right_index, y)\n",
    "    y_left = np.extract(left_index, y)\n",
    "        \n",
    "    # Number of \n",
    "    n_parent = float(len(y))\n",
    "    n_left = float(len(y_left))\n",
    "    n_right = float(len(y_right))\n",
    "    assert n_parent == n_left + n_right, \"Wrong split\"\n",
    "        \n",
    "    I_parent = gini_impurity(y)\n",
    "    I_children = (n_left/n_parent) * gini_impurity(y_left) + \\\n",
    "                    (n_right/n_parent) * gini_impurity(y_right)\n",
    "    return I_parent - I_children"
   ]
  },
  {
   "cell_type": "code",
   "execution_count": 24,
   "metadata": {},
   "outputs": [],
   "source": [
    "class DecisionTree:\n",
    "    \n",
    "    def __init__(self, max_depth=3, feature_labels=None):\n",
    "        self.max_depth = max_depth\n",
    "        self.features = feature_labels\n",
    "        self.left, self.right = None, None  # for non-leaf nodes\n",
    "        self.split_idx, self.thresh = None, None  # split_rule\n",
    "        self.data, self.pred = None, None  # for leaf nodes\n",
    "   \n",
    "\n",
    "    def split(self, X, y, idx, thresh):\n",
    "        X0, idx0, X1, idx1 = self.split_test(X, idx=idx, thresh=thresh)\n",
    "        y0, y1 = y[idx0], y[idx1]\n",
    "        return X0, y0, X1, y1\n",
    "\n",
    "    def split_test(self, X, idx, thresh): \n",
    "        idx0 = np.where(X[:, idx] < thresh)[0]\n",
    "        idx1 = np.where(X[:, idx] >= thresh)[0]\n",
    "        X0, X1 = X[idx0, :], X[idx1, :]\n",
    "        return X0, idx0, X1, idx1\n",
    "    \n",
    "    def fit(self, X, y):\n",
    "        if self.max_depth > 0:\n",
    "            # compute entropy gain for all single-dimension splits,\n",
    "            # thresholding with a linear interpolation of 10 values\n",
    "            gains = []\n",
    "            # The following logic prevents thresholding on exactly the minimum\n",
    "            # or maximum values, which may not lead to any meaningful node\n",
    "            # splits.\n",
    "            thresh = np.array([\n",
    "                np.linspace(np.min(X[:, i]) + eps, np.max(X[:, i]) - eps, num=15)\n",
    "                for i in range(X.shape[1])\n",
    "            ])\n",
    "            for i in range(X.shape[1]):\n",
    "                gains.append([information_gain(X[:, i], y, t) for t in thresh[i, :]])\n",
    "\n",
    "            gains = np.nan_to_num(np.array(gains))\n",
    "            self.split_idx, thresh_idx = np.unravel_index(np.argmax(gains), gains.shape)\n",
    "            self.thresh = thresh[self.split_idx, thresh_idx]\n",
    "            X0, y0, X1, y1 = self.split(X, y, idx=self.split_idx, thresh=self.thresh)\n",
    "            if X0.size > 0 and X1.size > 0:\n",
    "                self.left = DecisionTree(\n",
    "                    max_depth=self.max_depth - 1, feature_labels=self.features)\n",
    "                self.left.fit(X0, y0)\n",
    "                self.right = DecisionTree(\n",
    "                    max_depth=self.max_depth - 1, feature_labels=self.features)\n",
    "                self.right.fit(X1, y1)\n",
    "            else:\n",
    "                self.max_depth = 0\n",
    "                self.data, self.labels = X, y\n",
    "                self.pred = stats.mode(y).mode[0]\n",
    "        else:\n",
    "            self.data, self.labels = X, y\n",
    "            self.pred = stats.mode(y).mode[0]\n",
    "        return self\n",
    "\n",
    "    def predict(self, X, track=False):\n",
    "        if X.ndim == 1:\n",
    "            X = np.reshape(X, [1, len(X)])\n",
    "        if self.max_depth == 0:\n",
    "            return self.pred * np.ones(X.shape[0])\n",
    "        else:\n",
    "            X0, idx0, X1, idx1 = self.split_test(X, idx=self.split_idx, thresh=self.thresh)\n",
    "            yhat = np.zeros(X.shape[0])\n",
    "            \n",
    "            if track:\n",
    "                word = spam_features[self.split_idx]\n",
    "                if X[:, self.split_idx] < self.thresh:\n",
    "                    print(word + \" < \", self.thresh)\n",
    "                    yhat[idx0] = self.left.predict(X0, track=track)\n",
    "                else:\n",
    "                    print(word + \" >= \", self.thresh)\n",
    "                    yhat[idx1] = self.right.predict(X1, track=track)\n",
    "            else:\n",
    "                yhat[idx0] = self.left.predict(X0)\n",
    "                yhat[idx1] = self.right.predict(X1)\n",
    "\n",
    "            return yhat\n",
    "        \n",
    "    def accuracy(self, X, y):\n",
    "        yhat = self.predict(X)\n",
    "        return np.sum(yhat == y) / float(len(y))\n"
   ]
  },
  {
   "cell_type": "markdown",
   "metadata": {},
   "source": [
    "<font size=4>**3.2 Implement Random Forests**"
   ]
  },
  {
   "cell_type": "code",
   "execution_count": 25,
   "metadata": {},
   "outputs": [],
   "source": [
    "class RandomForest():\n",
    "    \n",
    "    def __init__(self, num_trees=99, max_depth=5, feature_labels=None):\n",
    "        self.num_trees = num_trees\n",
    "        #self.num_sample = num_sample\n",
    "        self.max_depth = max_depth\n",
    "        self.feature_labels = feature_labels\n",
    "        #self.num_feature = None\n",
    "        \n",
    "        self.trees = []\n",
    "        \n",
    "        for _ in range(num_trees):\n",
    "            \n",
    "            num_feature = int(np.sqrt(len(feature_labels)))\n",
    "            random_feature = np.random.choice(feature_labels, num_feature)\n",
    "            self.trees.append(DecisionTree(max_depth, random_feature))\n",
    "    \n",
    "    def fit(self, X, y, verbose=True):\n",
    "        num_sample = int(X.shape[0]*(2/3))\n",
    "        \n",
    "        pool = mp.Pool()\n",
    "        results = np.zeros(self.num_trees, dtype=object)\n",
    "        for i, dt in enumerate(self.trees):\n",
    "            idx = np.random.choice(range(X.shape[0]), num_sample)\n",
    "            sub_X = X[idx, :]\n",
    "            sub_y = y[idx]\n",
    "            #dt.fit(sub_X, sub_y)\n",
    "            results[i] = pool.apply_async(dt.fit, args=(sub_X, sub_y))\n",
    "            if verbose:\n",
    "                if i%20 == 0:\n",
    "                    print('%d Tree finish fitting' % i)\n",
    "        self.trees = [t.get() for t in results]\n",
    "        pool.close()\n",
    "        return self\n",
    "        \n",
    "    \n",
    "    def predict(self, X, verbose=True):\n",
    "        N = X.shape[0]\n",
    "        pred = np.zeros(N)\n",
    "        \n",
    "        for i in range(N):\n",
    "            votes = np.zeros(self.num_trees)\n",
    "            for j, dt in enumerate(self.trees):\n",
    "                votes[j] = dt.predict(X[i, :])\n",
    "            pred[i] = get_vote_result(votes)\n",
    "        return pred\n",
    "    \n",
    "    def accuracy(self, X, y):\n",
    "        yhat = self.predict(X)\n",
    "        return np.sum(yhat == y) / float(len(y))"
   ]
  },
  {
   "cell_type": "markdown",
   "metadata": {},
   "source": [
    "**Data Processing for Titanic**"
   ]
  },
  {
   "cell_type": "code",
   "execution_count": 4,
   "metadata": {},
   "outputs": [],
   "source": [
    "def preprocess(data, fill_mode=True, min_freq=10, onehot_cols=[]):\n",
    "    # Temporarily assign -1 to missing data\n",
    "    data[data == b''] = '-1'\n",
    "\n",
    "    # Hash the columns (used for handling strings)\n",
    "    onehot_encoding = []\n",
    "    onehot_features = []\n",
    "    for col in onehot_cols:\n",
    "        counter = Counter(data[:, col])\n",
    "        for term in counter.most_common():\n",
    "            if term[0] == b'-1':\n",
    "                continue\n",
    "            if term[-1] <= min_freq:\n",
    "                break\n",
    "            onehot_features.append(term[0])\n",
    "            onehot_encoding.append((data[:, col] == term[0]).astype(np.float))\n",
    "        data[:, col] = '0'\n",
    "    onehot_encoding = np.array(onehot_encoding).T\n",
    "    data = np.hstack([np.array(data, dtype=np.float), np.array(onehot_encoding)])\n",
    "\n",
    "    # Replace missing data with the mode value. We use the mode instead of\n",
    "    # the mean or median because this makes more sense for categorical\n",
    "    # features such as gender or cabin type, which are not ordered.\n",
    "    if fill_mode:\n",
    "        for i in range(data.shape[-1]):\n",
    "            mode = stats.mode(data[((data[:, i] < -1 - eps) +\n",
    "                                    (data[:, i] > -1 + eps))][:, i]).mode[0]\n",
    "            data[(data[:, i] > -1 - eps) * (data[:, i] < -1 + eps)][:, i] = mode\n",
    "\n",
    "    return data, onehot_features"
   ]
  },
  {
   "cell_type": "code",
   "execution_count": 7,
   "metadata": {},
   "outputs": [
    {
     "name": "stdout",
     "output_type": "stream",
     "text": [
      "\n",
      "\n",
      "Part (b): preprocessing the titanic dataset\n"
     ]
    },
    {
     "name": "stderr",
     "output_type": "stream",
     "text": [
      "/Users/wesley/anaconda3/lib/python3.7/site-packages/ipykernel_launcher.py:2: VisibleDeprecationWarning: Reading unicode strings without specifying the encoding argument is deprecated. Set the encoding, use None for the system default.\n",
      "  \n",
      "/Users/wesley/anaconda3/lib/python3.7/site-packages/ipykernel_launcher.py:4: VisibleDeprecationWarning: Reading unicode strings without specifying the encoding argument is deprecated. Set the encoding, use None for the system default.\n",
      "  after removing the cwd from sys.path.\n"
     ]
    }
   ],
   "source": [
    "path_train = './titanic_training.csv'\n",
    "data = genfromtxt(path_train, delimiter=',', dtype=None)\n",
    "path_test = './titanic_testing_data.csv'\n",
    "test_data = genfromtxt(path_test, delimiter=',', dtype=None)\n",
    "y = data[1:, 0]  # label = survived\n",
    "class_names = [\"Died\", \"Survived\"]\n",
    "\n",
    "labeled_idx = np.where(y != b'')[0]\n",
    "y = np.array(y[labeled_idx], dtype=np.int)\n",
    "print(\"\\n\\nPart (b): preprocessing the titanic dataset\")\n",
    "X, onehot_features = preprocess(data[1:, 1:], onehot_cols=[1, 5, 7, 8])\n",
    "X = X[labeled_idx, :]\n",
    "Z, _ = preprocess(test_data[1:, :], onehot_cols=[1, 5, 7, 8])\n",
    "assert X.shape[1] == Z.shape[1]\n",
    "features = list(data[0, 1:]) + onehot_features\n",
    "titanic_features = features"
   ]
  },
  {
   "cell_type": "code",
   "execution_count": 12,
   "metadata": {},
   "outputs": [],
   "source": [
    "path_train = './spam_data.mat'\n",
    "data = scipy.io.loadmat(path_train)\n",
    "SH_train = data['training_data']\n",
    "SH_y = np.squeeze(data['training_labels'])\n",
    "SH_test = data['test_data']\n",
    "class_names = [\"Ham\", \"Spam\"]\n",
    "spam_features = [\n",
    "            \"pain\", \"private\", \"bank\", \"money\", \"drug\", \"spam\", \"prescription\", \"creative\",\n",
    "            \"height\", \"featured\", \"differ\", \"width\", \"other\", \"energy\", \"business\", \"message\",\n",
    "            \"volumes\", \"revision\", \"path\", \"meter\", \"memo\", \"planning\", \"pleased\", \"record\", \"out\",\n",
    "            \"semicolon\", \"dollar\", \"sharp\", \"exclamation\", \"parenthesis\", \"square_bracket\",\n",
    "            \"ampersand\"\n",
    "        ]"
   ]
  },
  {
   "cell_type": "code",
   "execution_count": 13,
   "metadata": {},
   "outputs": [
    {
     "data": {
      "text/plain": [
       "5857"
      ]
     },
     "execution_count": 13,
     "metadata": {},
     "output_type": "execute_result"
    }
   ],
   "source": [
    "len(SH_test)"
   ]
  },
  {
   "cell_type": "code",
   "execution_count": 9,
   "metadata": {},
   "outputs": [
    {
     "name": "stdout",
     "output_type": "stream",
     "text": [
      "800 199 4138 1034\n"
     ]
    }
   ],
   "source": [
    "random = np.random.RandomState(66)\n",
    "\n",
    "t_X_train, t_X_val, t_y_train, t_y_val = split(X, y, 0.2)\n",
    "\n",
    "s_X_train, s_X_val, s_y_train, s_y_val = split(SH_train, SH_y, 0.2)\n",
    "\n",
    "print(len(t_X_train), len(t_X_val), len(s_X_train), len(s_X_val))"
   ]
  },
  {
   "cell_type": "markdown",
   "metadata": {},
   "source": [
    "<font size=4.2> **3.3 Describe Implementation details**"
   ]
  },
  {
   "cell_type": "markdown",
   "metadata": {},
   "source": [
    "How did you deal with categorical features and missing values?\n",
    "\n",
    "<font color='blue'>One hot encoding and replace the missing values by mode and mean, depending on the situation. For example, for missing age value, I repalce them by getting the mean value from each pclass."
   ]
  },
  {
   "cell_type": "markdown",
   "metadata": {},
   "source": [
    "What was your stopping criterion?\n",
    "\n",
    "<font color='blue'>The maximum depth."
   ]
  },
  {
   "cell_type": "markdown",
   "metadata": {},
   "source": [
    "How did you implement random forests?</font>\n",
    "\n",
    "<font color='blue'>I build a list to hold the decision trees I need and iterate through all of them."
   ]
  },
  {
   "cell_type": "markdown",
   "metadata": {},
   "source": [
    "Did you do anything special to speed up training?</font>\n",
    "\n",
    "<font color='blue'>Train the trees in parallel by importing multiprocessing library and call mp.Pool and pool.apply_async. The training speed is significantly faster."
   ]
  },
  {
   "cell_type": "markdown",
   "metadata": {},
   "source": [
    "Anything else cool you implemented?</font>\n",
    "\n",
    "<font color='blue'>I have a couple different verbose and track options for debugging and tracking the training process."
   ]
  },
  {
   "cell_type": "markdown",
   "metadata": {},
   "source": [
    "<font color='blue'>For Titanic's Kaggle competition, I combined SibSp and Parch to make a new feature.\n",
    "I also add the length of the ticket to be a new feature."
   ]
  },
  {
   "cell_type": "markdown",
   "metadata": {},
   "source": [
    "<font size=4> **3.4 Performance Evaluation**"
   ]
  },
  {
   "cell_type": "markdown",
   "metadata": {},
   "source": [
    "<font size=3.8> \n",
    "I choose random forests with 50 decision trees and 5 max depth. <br><br> Notice that if I change the depth to 15, the training accuracy for decision tree will be much higher(0.95) but the validation accuracy won't be too much higher, indicating overfitting.<br><br>Larger depth and tree numbers could lead more significant different in the validation accuracy.<br><hr>\n",
    "<font color=blue>**Titanic**</font>:<br><br> **Decision Tree**: &nbsp; &nbsp;&nbsp; train = 0.83, val = 0.798\n",
    "    <br><br> **Random Forests**: &nbsp;train = 0.83375, val = 0.807<br><br>\n",
    "<font color=blue>**SPAM**</font>:<br><br> **Decision Tree**:  &nbsp; &nbsp;&nbsp;  train = 0.811, val = 0.807\n",
    "    <br><br> **Random Forests**: &nbsp;train = 0.819, val = 0.8105"
   ]
  },
  {
   "cell_type": "code",
   "execution_count": 29,
   "metadata": {},
   "outputs": [
    {
     "name": "stdout",
     "output_type": "stream",
     "text": [
      "Titanic DT train:  0.83 val: 0.7989949748743719\n"
     ]
    }
   ],
   "source": [
    "dt = DecisionTree(max_depth=5, feature_labels=titanic_features)\n",
    "dt.fit(t_X_train, t_y_train)\n",
    "train_acc = dt.accuracy(t_X_train,  t_y_train)\n",
    "val_acc = dt.accuracy(t_X_val,  t_y_val)\n",
    "print(\"Titanic DT train: \",train_acc, \"val:\", val_acc)"
   ]
  },
  {
   "cell_type": "code",
   "execution_count": 30,
   "metadata": {},
   "outputs": [
    {
     "name": "stdout",
     "output_type": "stream",
     "text": [
      "SPAM DT train:  0.8115031416143065 val: 0.8075435203094777\n"
     ]
    }
   ],
   "source": [
    "dt = DecisionTree(max_depth=5, feature_labels=spam_features)\n",
    "dt.fit(s_X_train, s_y_train)\n",
    "train_acc = dt.accuracy(s_X_train,  s_y_train)\n",
    "val_acc = dt.accuracy(s_X_val,  s_y_val)\n",
    "print(\"SPAM DT train: \",train_acc, \"val:\", val_acc)"
   ]
  },
  {
   "cell_type": "code",
   "execution_count": 31,
   "metadata": {},
   "outputs": [
    {
     "name": "stdout",
     "output_type": "stream",
     "text": [
      "0 Tree finish fitting\n",
      "20 Tree finish fitting\n",
      "40 Tree finish fitting\n",
      "Titanic RF train:  0.83375 val: 0.8140703517587939\n"
     ]
    }
   ],
   "source": [
    "rf = RandomForest(num_trees=50, max_depth=5, feature_labels=titanic_features)\n",
    "rf.fit(t_X_train, t_y_train)\n",
    "train_acc = rf.accuracy(t_X_train,  t_y_train)\n",
    "val_acc = rf.accuracy(t_X_val,  t_y_val)\n",
    "print(\"Titanic RF train: \",train_acc, \"val:\", val_acc)"
   ]
  },
  {
   "cell_type": "code",
   "execution_count": 33,
   "metadata": {},
   "outputs": [
    {
     "name": "stdout",
     "output_type": "stream",
     "text": [
      "0 Tree finish fitting\n",
      "20 Tree finish fitting\n",
      "40 Tree finish fitting\n",
      "SPAM RF train:  0.8195364910584824 val: 0.8105364910584824\n"
     ]
    }
   ],
   "source": [
    "rf = RandomForest(num_trees=50, max_depth=5, feature_labels=spam_features)\n",
    "rf.fit(s_X_train, s_y_train)\n",
    "train_acc = rf.accuracy(s_X_train,  s_y_train)\n",
    "val_acc = rf.accuracy(s_X_val,  s_y_val)\n",
    "print(\"SPAM RF train: \",train_acc, \"val:\", val_acc)"
   ]
  },
  {
   "cell_type": "markdown",
   "metadata": {},
   "source": [
    "<font size=4>**3.5 Generating accuracy**"
   ]
  },
  {
   "cell_type": "markdown",
   "metadata": {},
   "source": [
    "<font size=3.6>**1. (optional)**<br>\n",
    "**2. State the split**"
   ]
  },
  {
   "cell_type": "markdown",
   "metadata": {},
   "source": [
    "exclamation <  1e-05<br>\n",
    "meter <  1e-05<br>\n",
    "parenthesis >=  1e-05<br>\n",
    "dollar <  1e-05<br>\n",
    "featured <  1e-05<br>\n",
    "money <  1e-05<br>\n",
    "Hence the email is a <font color='blue'>ham <font>."
   ]
  },
  {
   "cell_type": "markdown",
   "metadata": {},
   "source": [
    "exclamation >=  1e-05<br>\n",
    "ampersand <  1e-05<br>\n",
    "meter <  1e-05<br>\n",
    "volumes <  1e-05<br>\n",
    "money <  1e-05<br>\n",
    "dollar <  1e-05<br>\n",
    "Hence the email is a <font color='red'>spam<font>."
   ]
  },
  {
   "cell_type": "code",
   "execution_count": 12,
   "metadata": {},
   "outputs": [
    {
     "name": "stdout",
     "output_type": "stream",
     "text": [
      "exclamation <  1e-05\n",
      "meter <  1e-05\n",
      "parenthesis >=  1e-05\n",
      "dollar <  1e-05\n",
      "featured <  1e-05\n",
      "money <  1e-05\n"
     ]
    },
    {
     "data": {
      "text/plain": [
       "array([0.])"
      ]
     },
     "execution_count": 12,
     "metadata": {},
     "output_type": "execute_result"
    }
   ],
   "source": [
    "dt = DecisionTree(max_depth=6, feature_labels=spam_features)\n",
    "dt.fit(s_X_train, s_y_train);\n",
    "dt.predict(s_X_train[0], track=True)"
   ]
  },
  {
   "cell_type": "code",
   "execution_count": 13,
   "metadata": {},
   "outputs": [
    {
     "name": "stdout",
     "output_type": "stream",
     "text": [
      "exclamation >=  1e-05\n",
      "ampersand <  1e-05\n",
      "meter <  1e-05\n",
      "volumes <  1e-05\n",
      "money <  1e-05\n",
      "dollar <  1e-05\n"
     ]
    },
    {
     "data": {
      "text/plain": [
       "array([1.])"
      ]
     },
     "execution_count": 13,
     "metadata": {},
     "output_type": "execute_result"
    }
   ],
   "source": [
    "dt.predict(s_X_train[6], track=True)"
   ]
  },
  {
   "cell_type": "markdown",
   "metadata": {},
   "source": [
    "<font size=3.6>**3. Plotting the trend**<br>"
   ]
  },
  {
   "cell_type": "markdown",
   "metadata": {},
   "source": [
    "<font size=3.6> The validation accuracy start to rapidly grow from depth 1-5, and gradually reach the peak value at depth 26, with validation accuracy being 0.825. The best validation point is highlighted on the graph using a red spot.<br>See below for the code and the plot."
   ]
  },
  {
   "cell_type": "code",
   "execution_count": 146,
   "metadata": {},
   "outputs": [
    {
     "name": "stdout",
     "output_type": "stream",
     "text": [
      "done 10\n",
      "done 20\n",
      "done 30\n",
      "done 40\n"
     ]
    }
   ],
   "source": [
    "import matplotlib.pyplot as plt\n",
    "\n",
    "depths = [i+1 for i in range(40)]\n",
    "train_acc_list, val_acc_list = [], []\n",
    "\n",
    "for i in depths:\n",
    "    dt = DecisionTree(max_depth=i, feature_labels=spam_features)\n",
    "    dt.fit(s_X_train, s_y_train)\n",
    "    train_acc = dt.accuracy(s_X_train,  s_y_train)\n",
    "    val_acc = dt.accuracy(s_X_val,  s_y_val)\n",
    "    train_acc_list.append(train_acc)\n",
    "    val_acc_list.append(val_acc)\n",
    "    if i%10 == 0:\n",
    "        print('done %d'% i)\n"
   ]
  },
  {
   "cell_type": "code",
   "execution_count": 150,
   "metadata": {},
   "outputs": [
    {
     "data": {
      "image/png": "[encoded data removed]",
      "text/plain": [
       "<Figure size 432x288 with 1 Axes>"
      ]
     },
     "metadata": {
      "needs_background": "light"
     },
     "output_type": "display_data"
    }
   ],
   "source": [
    "#plt.figure(figsize=(8, 8))\n",
    "plt.plot(depths, train_acc_list, label='train')\n",
    "plt.plot(depths, val_acc_list, label='val')\n",
    "\n",
    "# Get the highest point\n",
    "ymax = max(val_acc_list)\n",
    "xpos = val_acc_list.index(ymax)\n",
    "xmax = depths[xpos]\n",
    "\n",
    "plt.plot(xmax, ymax, 'ro')\n",
    "plt.legend(loc='best')\n",
    "plt.title('train/val accuracy')\n",
    "plt.xlabel('Maximum depths')\n",
    "plt.ylabel('accuracy')\n",
    "plt.show()"
   ]
  },
  {
   "cell_type": "code",
   "execution_count": 151,
   "metadata": {},
   "outputs": [
    {
     "name": "stdout",
     "output_type": "stream",
     "text": [
      "26 0.8249516441005803\n"
     ]
    }
   ],
   "source": [
    "print(xmax, ymax)"
   ]
  },
  {
   "cell_type": "markdown",
   "metadata": {},
   "source": [
    "<font size=4>**Kaggle for Titanic using Pandas**"
   ]
  },
  {
   "cell_type": "markdown",
   "metadata": {},
   "source": [
    "EDA for Titanic data"
   ]
  },
  {
   "cell_type": "code",
   "execution_count": 40,
   "metadata": {},
   "outputs": [],
   "source": [
    "train = pd.read_csv('./titanic_training.csv')\n",
    "test = pd.read_csv('./titanic_testing_data.csv')"
   ]
  },
  {
   "cell_type": "code",
   "execution_count": 41,
   "metadata": {},
   "outputs": [
    {
     "data": {
      "text/html": [
       "<div>\n",
       "<style scoped>\n",
       "    .dataframe tbody tr th:only-of-type {\n",
       "        vertical-align: middle;\n",
       "    }\n",
       "\n",
       "    .dataframe tbody tr th {\n",
       "        vertical-align: top;\n",
       "    }\n",
       "\n",
       "    .dataframe thead th {\n",
       "        text-align: right;\n",
       "    }\n",
       "</style>\n",
       "<table border=\"1\" class=\"dataframe\">\n",
       "  <thead>\n",
       "    <tr style=\"text-align: right;\">\n",
       "      <th></th>\n",
       "      <th>survived</th>\n",
       "      <th>pclass</th>\n",
       "      <th>sex</th>\n",
       "      <th>age</th>\n",
       "      <th>sibsp</th>\n",
       "      <th>parch</th>\n",
       "      <th>ticket</th>\n",
       "      <th>fare</th>\n",
       "      <th>cabin</th>\n",
       "      <th>embarked</th>\n",
       "    </tr>\n",
       "  </thead>\n",
       "  <tbody>\n",
       "    <tr>\n",
       "      <th>432</th>\n",
       "      <td>0.0</td>\n",
       "      <td>3.0</td>\n",
       "      <td>male</td>\n",
       "      <td>NaN</td>\n",
       "      <td>0.0</td>\n",
       "      <td>0.0</td>\n",
       "      <td>349255</td>\n",
       "      <td>7.8958</td>\n",
       "      <td>NaN</td>\n",
       "      <td>C</td>\n",
       "    </tr>\n",
       "    <tr>\n",
       "      <th>775</th>\n",
       "      <td>0.0</td>\n",
       "      <td>3.0</td>\n",
       "      <td>male</td>\n",
       "      <td>32.0</td>\n",
       "      <td>0.0</td>\n",
       "      <td>0.0</td>\n",
       "      <td>370376</td>\n",
       "      <td>7.7500</td>\n",
       "      <td>NaN</td>\n",
       "      <td>Q</td>\n",
       "    </tr>\n",
       "    <tr>\n",
       "      <th>643</th>\n",
       "      <td>0.0</td>\n",
       "      <td>3.0</td>\n",
       "      <td>male</td>\n",
       "      <td>22.0</td>\n",
       "      <td>0.0</td>\n",
       "      <td>0.0</td>\n",
       "      <td>A/5 21172</td>\n",
       "      <td>7.2500</td>\n",
       "      <td>NaN</td>\n",
       "      <td>S</td>\n",
       "    </tr>\n",
       "    <tr>\n",
       "      <th>838</th>\n",
       "      <td>0.0</td>\n",
       "      <td>2.0</td>\n",
       "      <td>male</td>\n",
       "      <td>37.0</td>\n",
       "      <td>1.0</td>\n",
       "      <td>0.0</td>\n",
       "      <td>SC/AH 29037</td>\n",
       "      <td>26.0000</td>\n",
       "      <td>NaN</td>\n",
       "      <td>S</td>\n",
       "    </tr>\n",
       "    <tr>\n",
       "      <th>256</th>\n",
       "      <td>0.0</td>\n",
       "      <td>3.0</td>\n",
       "      <td>male</td>\n",
       "      <td>13.0</td>\n",
       "      <td>0.0</td>\n",
       "      <td>2.0</td>\n",
       "      <td>C.A. 2673</td>\n",
       "      <td>20.2500</td>\n",
       "      <td>NaN</td>\n",
       "      <td>S</td>\n",
       "    </tr>\n",
       "  </tbody>\n",
       "</table>\n",
       "</div>"
      ],
      "text/plain": [
       "     survived  pclass   sex   age  sibsp  parch       ticket     fare cabin  \\\n",
       "432       0.0     3.0  male   NaN    0.0    0.0       349255   7.8958   NaN   \n",
       "775       0.0     3.0  male  32.0    0.0    0.0       370376   7.7500   NaN   \n",
       "643       0.0     3.0  male  22.0    0.0    0.0    A/5 21172   7.2500   NaN   \n",
       "838       0.0     2.0  male  37.0    1.0    0.0  SC/AH 29037  26.0000   NaN   \n",
       "256       0.0     3.0  male  13.0    0.0    2.0    C.A. 2673  20.2500   NaN   \n",
       "\n",
       "    embarked  \n",
       "432        C  \n",
       "775        Q  \n",
       "643        S  \n",
       "838        S  \n",
       "256        S  "
      ]
     },
     "execution_count": 41,
     "metadata": {},
     "output_type": "execute_result"
    }
   ],
   "source": [
    "train.sample(5)"
   ]
  },
  {
   "cell_type": "code",
   "execution_count": 43,
   "metadata": {},
   "outputs": [
    {
     "data": {
      "text/plain": [
       "sex\n",
       "female    0.750716\n",
       "male      0.190769\n",
       "Name: survived, dtype: float64"
      ]
     },
     "execution_count": 43,
     "metadata": {},
     "output_type": "execute_result"
    }
   ],
   "source": [
    "train['survived'].groupby(train['sex']).mean()"
   ]
  },
  {
   "cell_type": "code",
   "execution_count": 48,
   "metadata": {},
   "outputs": [
    {
     "data": {
      "text/plain": [
       "6     448\n",
       "5     161\n",
       "4     109\n",
       "8      85\n",
       "10     56\n",
       "7      30\n",
       "9      28\n",
       "13     16\n",
       "17     14\n",
       "11     14\n",
       "18     11\n",
       "15      8\n",
       "12      8\n",
       "16      7\n",
       "3       5\n",
       "Name: ticket_len, dtype: int64"
      ]
     },
     "execution_count": 48,
     "metadata": {},
     "output_type": "execute_result"
    }
   ],
   "source": [
    "train['ticket_len'] = train['ticket'].apply(lambda x: len(str(x)))\n",
    "train['ticket_len'].value_counts()"
   ]
  },
  {
   "cell_type": "code",
   "execution_count": 49,
   "metadata": {},
   "outputs": [
    {
     "data": {
      "text/plain": [
       "ticket_first\n",
       "1    0.603550\n",
       "2    0.456311\n",
       "3    0.259146\n",
       "4    0.166667\n",
       "5    0.000000\n",
       "6    0.111111\n",
       "7    0.250000\n",
       "8    0.000000\n",
       "9    0.000000\n",
       "A    0.083333\n",
       "C    0.358209\n",
       "F    0.600000\n",
       "L    0.250000\n",
       "P    0.617647\n",
       "S    0.319444\n",
       "W    0.285714\n",
       "n         NaN\n",
       "Name: survived, dtype: float64"
      ]
     },
     "execution_count": 49,
     "metadata": {},
     "output_type": "execute_result"
    }
   ],
   "source": [
    "train['ticket_first'] = train['ticket'].apply(lambda x: str(x)[0])\n",
    "train.groupby(['ticket_first'])['survived'].mean()"
   ]
  },
  {
   "cell_type": "code",
   "execution_count": 55,
   "metadata": {},
   "outputs": [
    {
     "data": {
      "text/plain": [
       "1"
      ]
     },
     "execution_count": 55,
     "metadata": {},
     "output_type": "execute_result"
    }
   ],
   "source": [
    "sum(train['ticket'].isnull())"
   ]
  },
  {
   "cell_type": "code",
   "execution_count": 50,
   "metadata": {},
   "outputs": [
    {
     "data": {
      "text/plain": [
       "ticket_last\n",
       "0    0.414141\n",
       "1    0.369369\n",
       "2    0.397959\n",
       "3    0.388889\n",
       "4    0.279070\n",
       "5    0.340426\n",
       "6    0.438202\n",
       "7    0.340659\n",
       "8    0.538462\n",
       "9    0.340206\n",
       "E    0.250000\n",
       "n         NaN\n",
       "Name: survived, dtype: float64"
      ]
     },
     "execution_count": 50,
     "metadata": {},
     "output_type": "execute_result"
    }
   ],
   "source": [
    "train['ticket_last'] = train['ticket'].apply(lambda x: str(x)[-1])\n",
    "train.groupby(['ticket_last'])['survived'].mean()"
   ]
  },
  {
   "cell_type": "code",
   "execution_count": 51,
   "metadata": {},
   "outputs": [],
   "source": [
    "train.drop(['ticket_last'], inplace=True, axis=1)"
   ]
  },
  {
   "cell_type": "code",
   "execution_count": 52,
   "metadata": {},
   "outputs": [
    {
     "data": {
      "text/plain": [
       "cabin_first\n",
       "A    0.500000\n",
       "B    0.714286\n",
       "C    0.611111\n",
       "D    0.682927\n",
       "E    0.724138\n",
       "F    0.600000\n",
       "G    0.750000\n",
       "T    0.000000\n",
       "n    0.308290\n",
       "Name: survived, dtype: float64"
      ]
     },
     "execution_count": 52,
     "metadata": {},
     "output_type": "execute_result"
    }
   ],
   "source": [
    "train['cabin_first'] = train['cabin'].apply(lambda x: str(x)[0])\n",
    "train.groupby(['cabin_first'])['survived'].mean()"
   ]
  },
  {
   "cell_type": "code",
   "execution_count": 13,
   "metadata": {},
   "outputs": [],
   "source": [
    "# Feature engineering based on\n",
    "# https://www.kaggle.com/zlatankr/titanic-random-forest-82-78#Ticket\n",
    "\n",
    "# Based on my own EDA with my own feature engineering procedure.\n",
    "def age_impute(train, test):\n",
    "    for i in [train, test]:\n",
    "        i['Age_Null_Flag'] = i['age'].apply(lambda x: 1 if pd.isnull(x) else 0)\n",
    "        data = train.groupby(['pclass'])['age']\n",
    "        i['age'] = data.transform(lambda x: x.fillna(x.mean()))\n",
    "    return train, test\n",
    "\n",
    "def fam_size(train, test):\n",
    "    for i in [train, test]:\n",
    "        i['fam_size'] = np.where((i['sibsp']+i['parch']) == 0 , 'Solo',\n",
    "                           np.where((i['sibsp']+i['parch']) <= 3,'Nuclear', 'Big'))\n",
    "        del i['sibsp']\n",
    "        del i['parch']\n",
    "    return train, test\n",
    "\n",
    "def ticket_grouped(train, test):\n",
    "    for i in [train, test]:\n",
    "        i['ticket_first'] = i['ticket'].apply(lambda x: str(x)[0])\n",
    "        i['ticket_first'] = i['ticket_first'].apply(lambda x: str(x))\n",
    "        i['ticket_first'] = np.where((i['ticket_first']).isin(['1', '2', '3', 'S', 'P', 'C', 'A']), i['ticket_first'],\n",
    "                                   np.where((i['ticket_first']).isin(['W', '4', '7', '6', 'L', '5', '8','n']),\n",
    "                                            'Low_ticket', 'Other_ticket'))\n",
    "        i['ticket_len'] = i['ticket'].apply(lambda x: len(str(x)))\n",
    "        del i['ticket']\n",
    "    return train, test\n",
    "\n",
    "def cabin_first(train, test):\n",
    "    for i in [train, test]:\n",
    "        i['cabin_first'] = i['cabin'].apply(lambda x: str(x)[0])\n",
    "        del i['cabin']\n",
    "    return train, test\n",
    "\n",
    "def embarked_impute(train, test):\n",
    "    for i in [train, test]:\n",
    "        i['embarked'] = i['embarked'].fillna('S')\n",
    "    return train, test\n",
    "\n",
    "# This function is largely from https://www.kaggle.com/zlatankr/titanic-random-forest-82-78#Ticket\n",
    "def dummies(train, test, columns = ['pclass', 'sex', 'embarked', 'ticket_first', 'cabin_first', 'fam_size']):\n",
    "    for column in columns:\n",
    "        train[column] = train[column].apply(lambda x: str(x))\n",
    "        test[column] = test[column].apply(lambda x: str(x))\n",
    "        good_cols = [column+'_'+i for i in train[column].unique() if i in test[column].unique()]\n",
    "        train = pd.concat((train, pd.get_dummies(train[column], prefix = column)[good_cols]), axis = 1)\n",
    "        test = pd.concat((test, pd.get_dummies(test[column], prefix = column)[good_cols]), axis = 1)\n",
    "        del train[column]\n",
    "        del test[column]\n",
    "    return train, test"
   ]
  },
  {
   "cell_type": "code",
   "execution_count": 14,
   "metadata": {},
   "outputs": [],
   "source": [
    "# Data pre-processing's completely my own work.\n",
    "train = pd.read_csv('./titanic_training.csv')\n",
    "train = train[train['survived'].notna()]\n",
    "test = pd.read_csv('./titanic_testing_data.csv')\n",
    "train['pclass'].fillna(train['pclass'].value_counts().idxmax(), inplace=True)\n",
    "train['fare'].fillna(train['fare'].mean(), inplace=True)\n",
    "train, test = age_impute(train, test)\n",
    "train, test = cabin_first(train, test)\n",
    "train, test = embarked_impute(train, test)\n",
    "train, test = fam_size(train, test)\n",
    "test['fare'].fillna(train['fare'].mean(), inplace=True)\n",
    "train, test = ticket_grouped(train, test)\n",
    "train, test = dummies(train, test, columns = \n",
    "                      ['pclass', 'sex', 'embarked', 'ticket_first', 'cabin_first', 'fam_size'])\n"
   ]
  },
  {
   "cell_type": "code",
   "execution_count": 15,
   "metadata": {},
   "outputs": [],
   "source": [
    "train_X, train_y = train.iloc[:, 1:], train.iloc[:, 0]\n",
    "test_X = test"
   ]
  },
  {
   "cell_type": "code",
   "execution_count": null,
   "metadata": {},
   "outputs": [],
   "source": [
    "# Coare tune.\n",
    "\n",
    "from sklearn.model_selection import GridSearchCV\n",
    "from sklearn.ensemble import RandomForestClassifier\n",
    "\n",
    "rf = RandomForestClassifier(max_features='auto', oob_score=True, random_state=1, n_jobs=-1)\n",
    "\n",
    "param_grid = { \"criterion\" : [\"gini\", \"entropy\"], \"min_samples_leaf\" : [1, 5, 10], \"min_samples_split\" : [2, 4, 10, 12, 16], \"n_estimators\": [50, 100, 400, 700, 1000]}\n",
    "\n",
    "gs = GridSearchCV(estimator=rf, param_grid=param_grid, scoring='accuracy', cv=3, n_jobs=-1)\n",
    "\n",
    "gs = gs.fit(train_X, train_y)\n",
    "print(gs.best_score_)\n",
    "print(gs.best_params_)\n",
    "print(gs.cv_results_)"
   ]
  },
  {
   "cell_type": "code",
   "execution_count": 101,
   "metadata": {},
   "outputs": [
    {
     "name": "stdout",
     "output_type": "stream",
     "text": [
      "0.8108108108108109\n",
      "{'criterion': 'gini', 'min_samples_leaf': 1, 'min_samples_split': 12, 'n_estimators': 50}\n"
     ]
    }
   ],
   "source": [
    "# Fine tune.\n",
    "\n",
    "from sklearn.model_selection import GridSearchCV\n",
    "from sklearn.ensemble import RandomForestClassifier\n",
    "\n",
    "rf = RandomForestClassifier(max_features='auto', oob_score=True, random_state=1, n_jobs=-1)\n",
    "\n",
    "param_grid = { \"criterion\" : [\"gini\"], \"min_samples_leaf\" : [1, 5], \"min_samples_split\" : [10, 11, 12], \"n_estimators\": [40,50,60,100]}\n",
    "\n",
    "gs = GridSearchCV(estimator=rf, param_grid=param_grid, scoring='accuracy', cv=3, n_jobs=-1)\n",
    "\n",
    "gs = gs.fit(train_X, train_y)\n",
    "\n",
    "print(gs.best_score_)\n",
    "print(gs.best_params_)"
   ]
  },
  {
   "cell_type": "code",
   "execution_count": 102,
   "metadata": {},
   "outputs": [
    {
     "name": "stdout",
     "output_type": "stream",
     "text": [
      "0.8108108108108109\n",
      "{'criterion': 'gini', 'min_samples_leaf': 1, 'min_samples_split': 12, 'n_estimators': 50}\n"
     ]
    }
   ],
   "source": [
    "# Fine tune.\n",
    "\n",
    "from sklearn.model_selection import GridSearchCV\n",
    "from sklearn.ensemble import RandomForestClassifier\n",
    "\n",
    "rf = RandomForestClassifier(max_features='auto', oob_score=True, random_state=1, n_jobs=-1)\n",
    "\n",
    "param_grid = { \"criterion\" : [\"gini\"], \"min_samples_leaf\" : [1, 5], \"min_samples_split\" : [10, 11, 12, 13, 14], \"n_estimators\": [48,49,50,51,52,53]}\n",
    "\n",
    "gs = GridSearchCV(estimator=rf, param_grid=param_grid, scoring='accuracy', cv=3, n_jobs=-1)\n",
    "\n",
    "gs = gs.fit(train_X, train_y)\n",
    "\n",
    "print(gs.best_score_)\n",
    "print(gs.best_params_)"
   ]
  },
  {
   "cell_type": "code",
   "execution_count": 17,
   "metadata": {},
   "outputs": [
    {
     "name": "stdout",
     "output_type": "stream",
     "text": [
      "0.8048\n"
     ]
    }
   ],
   "source": [
    "from sklearn.ensemble import RandomForestClassifier\n",
    "\n",
    "titanic_kaggle_rf = RandomForestClassifier(criterion='gini',min_samples_leaf=1, max_depth=20,\n",
    "                                           min_samples_split=12, n_estimators=300, oob_score=True,\n",
    "                                          random_state=1,n_jobs=-1)\n",
    "titanic_kaggle_rf.fit(train_X, train_y)\n",
    "print(\"%.4f\" % titanic_kaggle_rf.oob_score_)"
   ]
  },
  {
   "cell_type": "code",
   "execution_count": 115,
   "metadata": {},
   "outputs": [
    {
     "data": {
      "text/plain": [
       "0.8828828828828829"
      ]
     },
     "execution_count": 115,
     "metadata": {},
     "output_type": "execute_result"
    }
   ],
   "source": [
    "from sklearn.ensemble import RandomForestClassifier\n",
    "\n",
    "titanic_kaggle_rf = RandomForestClassifier(criterion='gini',min_samples_leaf=1, \n",
    "                                           min_samples_split=12, n_estimators=300, oob_score=False,\n",
    "                                          random_state=1,n_jobs=-1)\n",
    "titanic_kaggle_rf.fit(train_X, train_y)\n",
    "titanic_kaggle_rf.score(train_X, train_y)"
   ]
  },
  {
   "cell_type": "code",
   "execution_count": 116,
   "metadata": {},
   "outputs": [],
   "source": [
    "titanic_pred = titanic_kaggle_rf.predict(test_X)\n",
    "results_to_csv(titanic_pred, 'titanic_kaggle_final')"
   ]
  },
  {
   "cell_type": "markdown",
   "metadata": {},
   "source": [
    "<font size=4>**Kaggle for SPAM**"
   ]
  },
  {
   "cell_type": "code",
   "execution_count": 10,
   "metadata": {},
   "outputs": [],
   "source": [
    "from sklearn.feature_extraction.text import CountVectorizer\n",
    "import glob\n",
    "\n",
    "sf = glob.glob('data/spam/'  + '*.txt')\n",
    "hf = glob.glob('data/ham/' + '*.txt')\n",
    "tf = ['data/test/'  + str(x) + '.txt' for x in range(5857)]\n",
    "\n",
    "all_train, all_test = [], []\n",
    "\n",
    "for file in sf + hf:\n",
    "    with open(file, \"r\", encoding='utf-8', errors='ignore') as f:\n",
    "        all_train.append(f.read())\n",
    "\n",
    "for file in tf:\n",
    "    with open(file, \"r\", encoding='utf-8', errors='ignore') as f:\n",
    "        all_test.append(f.read())\n",
    "        \n",
    "# Contrast Normalization Helper funtion.\n",
    "def cn(X):\n",
    "    norm_X = np.zeros(X.shape)\n",
    "    for i in range(X.shape[0]):\n",
    "        norm_X[i, :] = X[i, :]/(np.linalg.norm(X[i, :])+1e-12)\n",
    "    return norm_X\n",
    "\n",
    "vectorizer = CountVectorizer(min_df=4)\n",
    "raw_training_X = vectorizer.fit_transform(all_train)\n",
    "raw_test_X = vectorizer.transform(all_test)\n",
    "# Normalization.\n",
    "training_X, test_X = cn(raw_training_X.toarray()), cn(raw_test_X.toarray())\n",
    "training_y = np.concatenate((np.ones(len(sf)), np.zeros(len(hf))))\n",
    "\n",
    "std = np.std(training_X, axis=0)\n",
    "word_index = std.argsort()[-50:] # Tried out 600, 1000 and 1200.\n",
    "SH_train = training_X[:, word_index]\n",
    "SH_y = training_y\n",
    "SH_test = test_X[:, word_index]"
   ]
  },
  {
   "cell_type": "code",
   "execution_count": 15,
   "metadata": {},
   "outputs": [
    {
     "name": "stdout",
     "output_type": "stream",
     "text": [
      "0.8288863109048724\n",
      "{'criterion': 'gini', 'max_depth': 25, 'min_samples_leaf': 1, 'min_samples_split': 11, 'n_estimators': 100}\n"
     ]
    }
   ],
   "source": [
    "from sklearn.model_selection import GridSearchCV\n",
    "from sklearn.ensemble import RandomForestClassifier\n",
    "\n",
    "rf = RandomForestClassifier(max_features='auto', oob_score=True, random_state=1, n_jobs=-1)\n",
    "\n",
    "param_grid = { \"criterion\" : [\"gini\"], \"max_depth\" : [20, 22, 25], \"min_samples_leaf\" : [1], \"min_samples_split\" : [8, 9, 10, 11, 12], \"n_estimators\": [50, 100, 200]}\n",
    "\n",
    "gs = GridSearchCV(estimator=rf, param_grid=param_grid, scoring='accuracy', cv=5, n_jobs=-1)\n",
    "\n",
    "gs = gs.fit(SH_train, SH_y)\n",
    "print(gs.best_score_)\n",
    "print(gs.best_params_)"
   ]
  },
  {
   "cell_type": "code",
   "execution_count": 22,
   "metadata": {},
   "outputs": [
    {
     "name": "stdout",
     "output_type": "stream",
     "text": [
      "0.8413\n"
     ]
    }
   ],
   "source": [
    "from sklearn.ensemble import RandomForestClassifier\n",
    "spam_kaggle_rf = RandomForestClassifier(criterion='gini',min_samples_leaf=1, max_depth=25,\n",
    "                                           min_samples_split=11, n_estimators=150, oob_score=True,\n",
    "                                          random_state=1,n_jobs=-1)\n",
    "spam_kaggle_rf.fit(SH_train, SH_y)\n",
    "print(\"%.4f\" % spam_kaggle_rf.oob_score_)"
   ]
  },
  {
   "cell_type": "code",
   "execution_count": 19,
   "metadata": {},
   "outputs": [
    {
     "name": "stdout",
     "output_type": "stream",
     "text": [
      "200\n",
      "0.8430\n",
      "205\n",
      "0.8432\n",
      "210\n",
      "0.8436\n",
      "215\n",
      "0.8438\n",
      "220\n",
      "0.8442\n",
      "225\n",
      "0.8432\n",
      "230\n",
      "0.8436\n",
      "235\n",
      "0.8434\n",
      "240\n",
      "0.8438\n",
      "245\n",
      "0.8432\n"
     ]
    }
   ],
   "source": [
    "from sklearn.model_selection import GridSearchCV\n",
    "from sklearn.ensemble import RandomForestClassifier\n",
    "for i in range(200, 250, 5):\n",
    "    spam_kaggle_rf = RandomForestClassifier(criterion='gini',min_samples_leaf=1, max_depth=25,\n",
    "                                           min_samples_split=11, n_estimators=i, oob_score=True,\n",
    "                                          random_state=1,n_jobs=-1)\n",
    "    spam_kaggle_rf.fit(SH_train, SH_y)\n",
    "    print(i)\n",
    "    print(\"%.4f\" % spam_kaggle_rf.oob_score_)"
   ]
  },
  {
   "cell_type": "code",
   "execution_count": 20,
   "metadata": {},
   "outputs": [],
   "source": [
    "spam_kaggle_rf = RandomForestClassifier(criterion='gini',min_samples_leaf=1, max_depth=25,\n",
    "                                           min_samples_split=11, n_estimators=220, oob_score=False,\n",
    "                                          random_state=1,n_jobs=-1)\n",
    "spam_kaggle_rf.fit(SH_train, SH_y)\n",
    "spam_pred = spam_kaggle_rf.predict(SH_test)\n",
    "results_to_csv(spam_pred, 'spam_kaggle_again')"
   ]
  },
  {
   "cell_type": "code",
   "execution_count": null,
   "metadata": {},
   "outputs": [],
   "source": [
    "my_rf = RandomForest()"
   ]
  }
 ],
 "metadata": {
  "kernelspec": {
   "display_name": "Python 3",
   "language": "python",
   "name": "python3"
  },
  "language_info": {
   "codemirror_mode": {
    "name": "ipython",
    "version": 3
   },
   "file_extension": ".py",
   "mimetype": "text/x-python",
   "name": "python",
   "nbconvert_exporter": "python",
   "pygments_lexer": "ipython3",
   "version": "3.7.3"
  }
 },
 "nbformat": 4,
 "nbformat_minor": 2
}
