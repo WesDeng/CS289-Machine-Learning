{
 "cells": [
  {
   "cell_type": "code",
   "execution_count": 1,
   "metadata": {},
   "outputs": [],
   "source": [
    "import numpy as np\n",
    "import matplotlib.pyplot as plt\n",
    "from scipy.stats import multivariate_normal"
   ]
  },
  {
   "cell_type": "code",
   "execution_count": 2,
   "metadata": {},
   "outputs": [
    {
     "data": {
      "text/plain": [
       "(100, 2)"
      ]
     },
     "execution_count": 2,
     "metadata": {},
     "output_type": "execute_result"
    }
   ],
   "source": [
    "# Generating the data.\n",
    "np.random.seed(15)\n",
    "x_1 = np.random.normal(3, 3, 100).reshape(-1, 1)\n",
    "b = np.random.normal(4, 2, 100).reshape(-1, 1)\n",
    "x_2 = 1/2 * x_1 + b\n",
    "data = np.hstack((x_1, x_2))\n",
    "data.shape"
   ]
  },
  {
   "cell_type": "markdown",
   "metadata": {},
   "source": [
    "**(a)**"
   ]
  },
  {
   "cell_type": "code",
   "execution_count": 3,
   "metadata": {},
   "outputs": [
    {
     "data": {
      "text/plain": [
       "array([2.86431502, 5.32298994])"
      ]
     },
     "execution_count": 3,
     "metadata": {},
     "output_type": "execute_result"
    }
   ],
   "source": [
    "sample_mean = np.mean(data, axis=0)\n",
    "sample_mean"
   ]
  },
  {
   "cell_type": "markdown",
   "metadata": {},
   "source": [
    "**(b)**"
   ]
  },
  {
   "cell_type": "code",
   "execution_count": 4,
   "metadata": {},
   "outputs": [
    {
     "data": {
      "text/plain": [
       "array([[9.41654897, 5.66831491],\n",
       "       [5.66831491, 7.50797688]])"
      ]
     },
     "execution_count": 4,
     "metadata": {},
     "output_type": "execute_result"
    }
   ],
   "source": [
    "cov_matrix = np.cov(data.T)\n",
    "cov_matrix"
   ]
  },
  {
   "cell_type": "markdown",
   "metadata": {},
   "source": [
    "**(c)**"
   ]
  },
  {
   "cell_type": "code",
   "execution_count": 5,
   "metadata": {},
   "outputs": [
    {
     "data": {
      "text/plain": [
       "(array([14.21034572,  2.71418013]), array([[ 0.76355031, -0.64574835],\n",
       "        [ 0.64574835,  0.76355031]]))"
      ]
     },
     "execution_count": 5,
     "metadata": {},
     "output_type": "execute_result"
    }
   ],
   "source": [
    "eigenvalue, eigenvector = np.linalg.eig(cov_matrix)\n",
    "eigenvalue, eigenvector"
   ]
  },
  {
   "cell_type": "code",
   "execution_count": 6,
   "metadata": {},
   "outputs": [
    {
     "name": "stdout",
     "output_type": "stream",
     "text": [
      "14.210345715911036 [0.76355031 0.64574835] 2.7141801345064316 [-0.64574835  0.76355031]\n"
     ]
    }
   ],
   "source": [
    "lambda_1, lambda_2 = eigenvalue[0], eigenvalue[1]\n",
    "v_1, v_2 = eigenvector[:,0], eigenvector[:,1]\n",
    "print(lambda_1, v_1, lambda_2, v_2)"
   ]
  },
  {
   "cell_type": "markdown",
   "metadata": {},
   "source": [
    "**(d)**"
   ]
  },
  {
   "cell_type": "code",
   "execution_count": 7,
   "metadata": {},
   "outputs": [
    {
     "data": {
      "image/png": "[encoded data removed]",
      "text/plain": [
       "<Figure size 576x576 with 1 Axes>"
      ]
     },
     "metadata": {
      "needs_background": "light"
     },
     "output_type": "display_data"
    }
   ],
   "source": [
    "x0, x1 = sample_mean[0], sample_mean[1]\n",
    "v = np.sqrt(v_1[0]**2 + v_1[1]**2)\n",
    "#print(x0, x1)\n",
    "x0_x, x0_y = lambda_1*v_1[0]/v, lambda_1*v_1[1]/v\n",
    "x1_x, x1_y = lambda_2*v_2[0]/v, lambda_2*v_2[1]/v\n",
    "#print(x0_x, x0_y, x1_x, x1_y)\n",
    "plt.figure(figsize=(8,8))\n",
    "plt.xlim(-15, 15)\n",
    "plt.ylim(-15, 15)\n",
    "plt.axis('scaled')\n",
    "plt.xlabel('X1')\n",
    "plt.ylabel('X2')\n",
    "plt.title('Data Points with Covariance Eigenvectors')\n",
    "plt.scatter(data.T[0], data.T[1])\n",
    "plt.arrow(x0, x1, x0_x, x0_y)\n",
    "plt.arrow(x0, x1, x1_x, x1_y);"
   ]
  },
  {
   "cell_type": "markdown",
   "metadata": {},
   "source": [
    "**(e)**"
   ]
  },
  {
   "cell_type": "code",
   "execution_count": 9,
   "metadata": {},
   "outputs": [
    {
     "name": "stdout",
     "output_type": "stream",
     "text": [
      "[[ 0.76355031 -0.64574835]\n",
      " [ 0.64574835  0.76355031]]\n"
     ]
    },
    {
     "data": {
      "text/plain": [
       "(100, 2)"
      ]
     },
     "execution_count": 9,
     "metadata": {},
     "output_type": "execute_result"
    }
   ],
   "source": [
    "# Create rotating matrix U by stacking two eigenvectors.\n",
    "v_1, v_2 = np.array(v_1).reshape(2,1), np.array(v_2).reshape(2,1)\n",
    "U = np.hstack((v_1, v_2))\n",
    "print(U)\n",
    "centered_data = data - sample_mean # Centered the data\n",
    "rotated_data = np.dot(centered_data, U)\n",
    "rotated_data.shape"
   ]
  },
  {
   "cell_type": "code",
   "execution_count": 10,
   "metadata": {},
   "outputs": [
    {
     "data": {
      "image/png": "[encoded data removed]",
      "text/plain": [
       "<Figure size 576x576 with 1 Axes>"
      ]
     },
     "metadata": {
      "needs_background": "light"
     },
     "output_type": "display_data"
    }
   ],
   "source": [
    "plt.figure(figsize=(8,8))\n",
    "plt.xlim(-15, 15)\n",
    "plt.ylim(-15, 15)\n",
    "plt.axis('scaled')\n",
    "plt.xlabel('X1')\n",
    "plt.ylabel('X2')\n",
    "plt.title('Rotated Data Points')\n",
    "plt.scatter(rotated_data.T[0], rotated_data.T[1]);"
   ]
  },
  {
   "cell_type": "code",
   "execution_count": null,
   "metadata": {},
   "outputs": [],
   "source": []
  }
 ],
 "metadata": {
  "kernelspec": {
   "display_name": "Python 3",
   "language": "python",
   "name": "python3"
  },
  "language_info": {
   "codemirror_mode": {
    "name": "ipython",
    "version": 3
   },
   "file_extension": ".py",
   "mimetype": "text/x-python",
   "name": "python",
   "nbconvert_exporter": "python",
   "pygments_lexer": "ipython3",
   "version": "3.7.3"
  }
 },
 "nbformat": 4,
 "nbformat_minor": 2
}
